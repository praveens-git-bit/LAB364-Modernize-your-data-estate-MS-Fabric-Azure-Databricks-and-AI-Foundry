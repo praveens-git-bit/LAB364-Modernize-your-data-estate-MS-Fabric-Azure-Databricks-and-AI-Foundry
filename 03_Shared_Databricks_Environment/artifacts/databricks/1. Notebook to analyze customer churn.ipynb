{
 "cells": [
  {
   "cell_type": "markdown",
   "metadata": {
    "application/vnd.databricks.v1+cell": {
     "cellMetadata": {
      "byteLimit": 2048000,
      "rowLimit": 10000
     },
     "inputWidgets": {},
     "nuid": "24ec8fbe-0679-4433-b070-f35e377abb28",
     "showTitle": false,
     "title": ""
    }
   },
   "source": [
    "### Read data from volume"
   ]
  },
  {
   "cell_type": "markdown",
   "metadata": {
    "application/vnd.databricks.v1+cell": {
     "cellMetadata": {
      "byteLimit": 2048000,
      "rowLimit": 10000
     },
     "inputWidgets": {},
     "nuid": "f6a02831-fe38-4de1-b662-472315ac3434",
     "showTitle": false,
     "title": ""
    }
   },
   "source": [
    "Importing Libraries"
   ]
  },
  {
   "cell_type": "code",
   "execution_count": 0,
   "metadata": {
    "application/vnd.databricks.v1+cell": {
     "cellMetadata": {
      "byteLimit": 2048000,
      "rowLimit": 10000
     },
     "inputWidgets": {},
     "nuid": "e63743ce-a2c4-4d8a-a3f7-21140761c280",
     "showTitle": false,
     "title": ""
    }
   },
   "outputs": [],
   "source": [
    "from pyspark.sql.functions import sum as _sum\n",
    "from pyspark.sql.functions import mean as _mean\n",
    "from pyspark.sql.functions import max as _max\n",
    "from pyspark.sql.functions import min as _min\n",
    "import pyspark.sql.functions as func\n",
    "import pyspark.sql.functions as F\n",
    "from pyspark.sql.functions import *\n",
    "import dlt \n",
    "from pyspark.sql.types import StructType, StructField, StringType, IntegerType, FloatType, DateType\n",
    "import random\n",
    "import string"
   ]
  },
  {
   "cell_type": "code",
   "execution_count": 0,
   "metadata": {
    "application/vnd.databricks.v1+cell": {
     "cellMetadata": {
      "byteLimit": 2048000,
      "rowLimit": 10000
     },
     "inputWidgets": {},
     "nuid": "adffa5e3-6e36-4086-ba55-6dc48bc4d48b",
     "showTitle": false,
     "title": ""
    }
   },
   "outputs": [],
   "source": [
    "campaignSchema = StructType([    \n",
    "    StructField(\"Region\",StringType(),True),\n",
    "    StructField(\"Country\",StringType(),True),\n",
    "    StructField(\"ProductCategory\",StringType(),True),\n",
    "    StructField(\"Campaign_ID\",IntegerType(),True),    \n",
    "    StructField(\"Campaign_Name\",StringType(),True),\n",
    "    StructField(\"Qualification\",StringType(),True),\n",
    "    StructField(\"Qualification_Number\",StringType(),True),\n",
    "    StructField(\"Response_Status\",StringType(),True),\n",
    "    StructField(\"Responses\",FloatType(),True),\n",
    "    StructField(\"Cost\",FloatType(),True),\n",
    "    StructField(\"Revenue\",FloatType(),True),\n",
    "    StructField(\"ROI\",FloatType(),True),\n",
    "    StructField(\"Lead_Generation\",StringType(),True),\n",
    "    StructField(\"Revenue_Target\",FloatType(),True),\n",
    "    StructField(\"Campaign_Tactic\",StringType(),True),\n",
    "    StructField(\"Customer_Segment\",StringType(),True),\n",
    "    StructField(\"Status\",StringType(),True),\n",
    "    StructField(\"Profit\",FloatType(),True),\n",
    "    StructField(\"Marketing_Cost\",FloatType(),True),\n",
    "    StructField(\"CampaignID\",IntegerType(),True),\n",
    "    StructField(\"CampDate\",DateType(),True), \n",
    "    StructField(\"SORTED_ID\",IntegerType(),True)])"
   ]
  },
  {
   "cell_type": "code",
   "execution_count": 0,
   "metadata": {
    "application/vnd.databricks.v1+cell": {
     "cellMetadata": {
      "byteLimit": 2048000,
      "rowLimit": 10000
     },
     "inputWidgets": {},
     "nuid": "b93f3447-ed11-4adf-b868-a5e7d68fdd7a",
     "showTitle": false,
     "title": ""
    }
   },
   "outputs": [],
   "source": [
    "Dataschema = StructType([\n",
    "    StructField(\"ID\", StringType()),\n",
    "    StructField(\"WeekStarting\", DateType()),\n",
    "    StructField(\"Store\", IntegerType()),\n",
    "    StructField(\"Brand\", StringType()),\n",
    "    StructField(\"Quantity\", IntegerType()),\n",
    "    StructField(\"Advert\", IntegerType()),\n",
    "    StructField(\"Price\", FloatType()),\n",
    "    StructField(\"Revenue\", FloatType())\n",
    "])"
   ]
  },
  {
   "cell_type": "code",
   "execution_count": 0,
   "metadata": {
    "application/vnd.databricks.v1+cell": {
     "cellMetadata": {
      "byteLimit": 2048000,
      "rowLimit": 10000
     },
     "inputWidgets": {},
     "nuid": "f565094e-a66a-4818-823b-4d4168a4333f",
     "showTitle": false,
     "title": ""
    }
   },
   "outputs": [],
   "source": [
    "campaigndata = spark.read.format(\"csv\").option(\"header\",True).schema(campaignSchema).load(\"/Volumes/litware_unity_catalog/rag/documents_store/raw_data/CampaignData.csv\")\n",
    "customerchurdata = spark.read.csv('/Volumes/litware_unity_catalog/rag/documents_store/raw_data/CustomerChurnData.csv',  header=True)\n",
    "salestransaction = spark.read.csv('/Volumes/litware_unity_catalog/rag/documents_store/raw_data/SalesTransData.txt',schema=Dataschema)"
   ]
  },
  {
   "cell_type": "code",
   "execution_count": 0,
   "metadata": {
    "application/vnd.databricks.v1+cell": {
     "cellMetadata": {
      "byteLimit": 2048000,
      "implicitDf": true,
      "rowLimit": 10000
     },
     "inputWidgets": {},
     "nuid": "e5e4bf42-f32b-40a2-994e-b8524fe450db",
     "showTitle": false,
     "title": ""
    }
   },
   "outputs": [
    {
     "name": "stdout",
     "output_type": "stream",
     "text": [
      "+--------+----------------+-----------+\n",
      "|database|       tableName|isTemporary|\n",
      "+--------+----------------+-----------+\n",
      "|     rag|    campaigndata|      false|\n",
      "|     rag|customerchurdata|      false|\n",
      "|     rag|salestransaction|      false|\n",
      "+--------+----------------+-----------+\n",
      "\n"
     ]
    }
   ],
   "source": [
    "# Save DataFrame as a table in the Unity Catalog\n",
    "campaigndata.write.mode(\"overwrite\").format(\"delta\").saveAsTable(\"litware_unity_catalog.rag.campaigndata\")\n",
    "customerchurdata.write.mode(\"overwrite\").format(\"delta\").saveAsTable(\"litware_unity_catalog.rag.customerchurdata\")\n",
    "salestransaction.write.mode(\"overwrite\").format(\"delta\").saveAsTable(\"litware_unity_catalog.rag.salestransaction\")\n",
    "\n",
    "# Confirm the table creation\n",
    "spark.sql(\"SHOW TABLES IN litware_unity_catalog.rag\").show()"
   ]
  }
 ],
 "metadata": {
  "application/vnd.databricks.v1+notebook": {
   "dashboards": [],
   "environmentMetadata": null,
   "language": "python",
   "notebookMetadata": {
    "mostRecentlyExecutedCommandWithImplicitDF": {
     "commandId": 1678220809700345,
     "dataframes": [
      "_sqldf"
     ]
    },
    "pythonIndentUnit": 4
   },
   "notebookName": "1. Notebook to analyze customer churn",
   "widgets": {}
  },
  "language_info": {
   "name": "python"
  }
 },
 "nbformat": 4,
 "nbformat_minor": 0
}
