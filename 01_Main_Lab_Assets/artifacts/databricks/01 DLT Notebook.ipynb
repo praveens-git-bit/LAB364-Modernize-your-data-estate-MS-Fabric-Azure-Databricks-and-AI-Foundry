{
 "cells": [
  {
   "cell_type": "code",
   "execution_count": 0,
   "metadata": {
    "application/vnd.databricks.v1+cell": {
     "cellMetadata": {
      "byteLimit": 2048000,
      "rowLimit": 10000
     },
     "inputWidgets": {},
     "nuid": "5d213271-8afe-4d80-9058-24500ed04efd",
     "showTitle": false,
     "title": ""
    },
    "jupyter": {
     "outputs_hidden": true
    }
   },
   "outputs": [],
   "source": [
    "# Install Dependency\n",
    "\n",
    "%pip install dlt  # Package for data lineage tracking\n"
   ]
  },
  {
   "cell_type": "markdown",
   "metadata": {
    "application/vnd.databricks.v1+cell": {
     "cellMetadata": {},
     "inputWidgets": {},
     "nuid": "3e7ec7b4-7774-4345-b39d-293010de2afb",
     "showTitle": false,
     "title": ""
    }
   },
   "source": [
    "## Mount path"
   ]
  },
  {
   "cell_type": "code",
   "execution_count": 0,
   "metadata": {
    "application/vnd.databricks.v1+cell": {
     "cellMetadata": {
      "byteLimit": 2048000,
      "rowLimit": 10000
     },
     "inputWidgets": {},
     "nuid": "50b780a2-0168-46d9-b69a-2e9fd45a950b",
     "showTitle": false,
     "title": ""
    }
   },
   "outputs": [],
   "source": [
    "storageAccountName = \"#STORAGEACCOUNT#\"\n",
    "blobContainerName = \"data\"\n",
    "storage_account_access_key= \"#storage_account_key#\"\n",
    "Source_mount = \"/mnt/Source\"\n",
    "Dest_mount = \"/mnt/dlt_destination\""
   ]
  },
  {
   "cell_type": "markdown",
   "metadata": {
    "application/vnd.databricks.v1+cell": {
     "cellMetadata": {},
     "inputWidgets": {},
     "nuid": "c36c40e3-ee83-46fe-adb8-cac5ee9908df",
     "showTitle": false,
     "title": ""
    }
   },
   "source": [
    "Source Mount Point"
   ]
  },
  {
   "cell_type": "code",
   "execution_count": 0,
   "metadata": {
    "application/vnd.databricks.v1+cell": {
     "cellMetadata": {
      "byteLimit": 2048000,
      "rowLimit": 10000
     },
     "inputWidgets": {},
     "nuid": "33a0a14c-4ba9-4b0d-b5e6-27ae75f6b613",
     "showTitle": false,
     "title": ""
    }
   },
   "outputs": [],
   "source": [
    "if not any(mount.mountPoint == \"/mnt/Source\" for mount in dbutils.fs.mounts()):\n",
    "    dbutils.fs.mount(\n",
    "      source = \"wasbs://data@#STORAGEACCOUNT#.blob.core.windows.net/\",\n",
    "      mount_point = \"/mnt/Source\",\n",
    "      extra_configs = {\"fs.azure.account.key.#STORAGEACCOUNT#.blob.core.windows.net\": \"#storage_account_key#\"})\n",
    "else:\n",
    "    print(\"Mount point already exists.\")"
   ]
  },
  {
   "cell_type": "markdown",
   "metadata": {
    "application/vnd.databricks.v1+cell": {
     "cellMetadata": {},
     "inputWidgets": {},
     "nuid": "f139f9cd-0f33-40f5-8780-50e501844b99",
     "showTitle": false,
     "title": ""
    }
   },
   "source": [
    "Destination Mount Point"
   ]
  },
  {
   "cell_type": "code",
   "execution_count": 0,
   "metadata": {
    "application/vnd.databricks.v1+cell": {
     "cellMetadata": {
      "byteLimit": 2048000,
      "rowLimit": 10000
     },
     "inputWidgets": {},
     "nuid": "96a22581-bf8e-46f4-a014-d88ed4504ff6",
     "showTitle": false,
     "title": ""
    }
   },
   "outputs": [],
   "source": [
    "if not any(mount.mountPoint == \"/mnt/dlt_destination\" for mount in dbutils.fs.mounts()):\n",
    "    dbutils.fs.mount(\n",
    "      source = \"wasbs://data@#STORAGEACCOUNT#.blob.core.windows.net/\",\n",
    "      mount_point = \"/mnt/dlt_destination\",\n",
    "      extra_configs = {\"fs.azure.account.key.#STORAGEACCOUNT#.blob.core.windows.net\": \"#storage_account_key#\"})\n",
    "else:\n",
    "    print(\"Mount point already exists.\")"
   ]
  },
  {
   "cell_type": "code",
   "execution_count": 0,
   "metadata": {
    "application/vnd.databricks.v1+cell": {
     "cellMetadata": {
      "byteLimit": 2048000,
      "rowLimit": 10000
     },
     "inputWidgets": {},
     "nuid": "ddcfd877-a1bb-4c74-8e3e-54aa3c0f69fb",
     "showTitle": false,
     "title": ""
    }
   },
   "outputs": [],
   "source": [
    "# dbutils.fs.unmount('/mnt/dlt_destination')\n",
    "# dbutils.fs.unmount('/mnt/Source')"
   ]
  },
  {
   "cell_type": "markdown",
   "metadata": {
    "application/vnd.databricks.v1+cell": {
     "cellMetadata": {},
     "inputWidgets": {},
     "nuid": "95a117e2-c1ac-4579-8767-dd3bab7f4130",
     "showTitle": false,
     "title": ""
    }
   },
   "source": [
    "#Campaign Analytics<br/>\n",
    "\n",
    "1. **Usecase               :** Performing Campaign analytics on static campaign data coming from OneLake Bronze Layer.<br/>\n",
    "2. **Notebook Summary      :** This notebook is a part of campaign analytics application which perform `campaign analytics using various pyspark capability`.<br/>\n",
    "3. **Notebook Description  :** Performing Campaign Analytics on OneLake Bronze Layer Files.\n",
    "\n",
    "\n",
    "###Feature List\n",
    "1. Data Profiling\n",
    "2. Total Revenue, Total Revenue Target & Profit \n",
    "3. Campaign Run by Per Week \n",
    "4. Total Profit by Country Per Week\n",
    "5. Top Loss-Making Campaign \n",
    "\n",
    "The bronze data received for processing is already curated. So, we will derive gold tables from bronze tables."
   ]
  },
  {
   "cell_type": "markdown",
   "metadata": {
    "application/vnd.databricks.v1+cell": {
     "cellMetadata": {},
     "inputWidgets": {},
     "nuid": "98250756-be70-4eb1-8720-f3011118670c",
     "showTitle": false,
     "title": ""
    }
   },
   "source": [
    "### Import Libraries"
   ]
  },
  {
   "cell_type": "code",
   "execution_count": 0,
   "metadata": {
    "application/vnd.databricks.v1+cell": {
     "cellMetadata": {
      "byteLimit": 2048000,
      "rowLimit": 10000
     },
     "inputWidgets": {},
     "nuid": "fd559069-b281-467f-8ad3-1254f2e939c5",
     "showTitle": false,
     "title": ""
    }
   },
   "outputs": [],
   "source": [
    "from pyspark.sql.functions import sum as _sum\n",
    "from pyspark.sql.functions import mean as _mean\n",
    "from pyspark.sql.functions import max as _max\n",
    "from pyspark.sql.functions import min as _min\n",
    "import pyspark.sql.functions as func\n",
    "import pyspark.sql.functions as F\n",
    "from pyspark.sql.functions import *\n",
    "import dlt \n",
    "from pyspark.sql.types import StructType, StructField, StringType, IntegerType, FloatType, DateType\n",
    "import random\n",
    "import string"
   ]
  },
  {
   "cell_type": "markdown",
   "metadata": {
    "application/vnd.databricks.v1+cell": {
     "cellMetadata": {},
     "inputWidgets": {},
     "nuid": "8bae6a51-714a-4f30-b2fa-764845d2b6ba",
     "showTitle": false,
     "title": ""
    }
   },
   "source": [
    "###Define the Schema for the input file"
   ]
  },
  {
   "cell_type": "code",
   "execution_count": 0,
   "metadata": {
    "application/vnd.databricks.v1+cell": {
     "cellMetadata": {
      "byteLimit": 2048000,
      "rowLimit": 10000
     },
     "inputWidgets": {},
     "nuid": "b87ea543-9f01-4bfe-aa08-2800b132f76b",
     "showTitle": false,
     "title": ""
    }
   },
   "outputs": [],
   "source": [
    "campaignSchema = StructType([    \n",
    "    StructField(\"Region\",StringType(),True),\n",
    "    StructField(\"Country\",StringType(),True),\n",
    "    StructField(\"ProductCategory\",StringType(),True),\n",
    "    StructField(\"Campaign_ID\",IntegerType(),True),    \n",
    "    StructField(\"Campaign_Name\",StringType(),True),\n",
    "    StructField(\"Qualification\",StringType(),True),\n",
    "    StructField(\"Qualification_Number\",StringType(),True),\n",
    "    StructField(\"Response_Status\",StringType(),True),\n",
    "    StructField(\"Responses\",FloatType(),True),\n",
    "    StructField(\"Cost\",FloatType(),True),\n",
    "    StructField(\"Revenue\",FloatType(),True),\n",
    "    StructField(\"ROI\",FloatType(),True),\n",
    "    StructField(\"Lead_Generation\",StringType(),True),\n",
    "    StructField(\"Revenue_Target\",FloatType(),True),\n",
    "    StructField(\"Campaign_Tactic\",StringType(),True),\n",
    "    StructField(\"Customer_Segment\",StringType(),True),\n",
    "    StructField(\"Status\",StringType(),True),\n",
    "    StructField(\"Profit\",FloatType(),True),\n",
    "    StructField(\"Marketing_Cost\",FloatType(),True),\n",
    "    StructField(\"CampaignID\",IntegerType(),True),\n",
    "    StructField(\"CampDate\",DateType(),True), \n",
    "    StructField(\"SORTED_ID\",IntegerType(),True)])\n",
    "    "
   ]
  },
  {
   "cell_type": "markdown",
   "metadata": {
    "application/vnd.databricks.v1+cell": {
     "cellMetadata": {},
     "inputWidgets": {},
     "nuid": "1e729867-e224-472c-9b0d-e2ae726f4028",
     "showTitle": false,
     "title": ""
    }
   },
   "source": [
    "### Load the Campaign Dataset from OneLake Bronze Layer"
   ]
  },
  {
   "cell_type": "code",
   "execution_count": 0,
   "metadata": {
    "application/vnd.databricks.v1+cell": {
     "cellMetadata": {
      "byteLimit": 2048000,
      "rowLimit": 10000
     },
     "inputWidgets": {},
     "nuid": "d18a476c-1728-4d71-9179-6b3dcba53b43",
     "showTitle": false,
     "title": ""
    }
   },
   "outputs": [],
   "source": [
    "# Bronze Table Setup\n",
    "@dlt.table(comment=\"Raw data\", path = \"/mnt/dlt_destination/bronze_campaign_data\")\n",
    "def bronze_campaign_data():\n",
    "#   return (spark.table(\"campaign.campaign_source\"))\n",
    "  return (spark.read.format(\"csv\").option(\"header\",True).schema(campaignSchema).load(\"/mnt/Source/CampaignData/campaign-data.csv\"))"
   ]
  },
  {
   "cell_type": "markdown",
   "metadata": {
    "application/vnd.databricks.v1+cell": {
     "cellMetadata": {},
     "inputWidgets": {},
     "nuid": "efa893a6-d730-45d5-9c3e-2d706e286b85",
     "showTitle": false,
     "title": ""
    }
   },
   "source": [
    "### Total Revenue, Total Revenue Target & Profit"
   ]
  },
  {
   "cell_type": "code",
   "execution_count": 0,
   "metadata": {
    "application/vnd.databricks.v1+cell": {
     "cellMetadata": {
      "byteLimit": 2048000,
      "rowLimit": 10000
     },
     "inputWidgets": {},
     "nuid": "5c160f9a-2ca4-49f8-abac-ba359c1fc534",
     "showTitle": false,
     "title": ""
    }
   },
   "outputs": [],
   "source": [
    "# Gold Table Setup\n",
    "@dlt.table(comment=\"Aggregated data\", path = \"/mnt/dlt_destination/gold_country_wise_revenue\")\n",
    "def gold_country_wise_revenue():\n",
    "    df = dlt.read(\"bronze_campaign_data\").groupBy(\"Country\",\"Region\").agg(_sum(\"Revenue\").alias(\"Total_Revenue\"), _sum(\"Revenue_Target\").alias(\"Total_Revenue_Target\"),_sum(\"Profit\").alias(\"Total_Profit\"),_max(\"Cost\").alias(\"Max_Cost\"),_min(\"Cost\").alias(\"Min_Cost\"))\n",
    "    df = df.withColumn(\"Total_Revenue\", func.round(df[\"Total_Revenue\"],2)).withColumn(\"Total_Revenue_Target\", func.round(df[\"Total_Revenue_Target\"], 2)).withColumn(\"Total_Profit\", func.round(df[\"Total_Profit\"], 2))\n",
    "    return df"
   ]
  },
  {
   "cell_type": "markdown",
   "metadata": {
    "application/vnd.databricks.v1+cell": {
     "cellMetadata": {},
     "inputWidgets": {},
     "nuid": "4f6083f1-2429-45c1-92f8-8dcaff05bb9f",
     "showTitle": false,
     "title": ""
    }
   },
   "source": [
    "### Top Loss-Making Campaign"
   ]
  },
  {
   "cell_type": "code",
   "execution_count": 0,
   "metadata": {
    "application/vnd.databricks.v1+cell": {
     "cellMetadata": {
      "byteLimit": 2048000,
      "rowLimit": 10000
     },
     "inputWidgets": {},
     "nuid": "35c5680c-7cb1-420c-9e98-6a3ab44504fc",
     "showTitle": false,
     "title": ""
    }
   },
   "outputs": [],
   "source": [
    "# Gold Table Setup\n",
    "@dlt.table(comment=\"Aggregated data\", path = \"/mnt/dlt_destination/gold_Top_Loss_Making_Campaign\")\n",
    "def gold_Top_Loss_Making_Campaign():\n",
    "    loss = dlt.read(\"bronze_campaign_data\").select(\"Campaign_Name\",\"Profit\").filter(F.col(\"Profit\") < 0)\n",
    "    loss = loss.withColumn(\"Loss_Count\", F.when((F.col('Profit') < 0 ) , F.lit(1)).otherwise(F.lit(0)))\n",
    "#     loss = loss.groupBy('Campaign_Name').sum('Loss_Count')\n",
    "    return loss"
   ]
  },
  {
   "cell_type": "markdown",
   "metadata": {
    "application/vnd.databricks.v1+cell": {
     "cellMetadata": {},
     "inputWidgets": {},
     "nuid": "239a17d1-ab3c-48b1-966e-4f39ec6f56f3",
     "showTitle": false,
     "title": ""
    }
   },
   "source": [
    "#  Retail Sales Data Preparation using Spark"
   ]
  },
  {
   "cell_type": "markdown",
   "metadata": {
    "application/vnd.databricks.v1+cell": {
     "cellMetadata": {},
     "inputWidgets": {},
     "nuid": "06c15a03-b0b2-4205-91be-cd6186235660",
     "showTitle": false,
     "title": ""
    }
   },
   "source": [
    "Preparing retail data for training a regression model to predict total sales revenue of a product from a store using the following features: \n",
    "- Brand (The brand of the product)\n",
    "- Quantity (Quantity of product purchased)\n",
    "- Advert (Whether the product had an advertisement or not)\n",
    "- Price (How much the product costs)"
   ]
  },
  {
   "cell_type": "markdown",
   "metadata": {
    "application/vnd.databricks.v1+cell": {
     "cellMetadata": {},
     "inputWidgets": {},
     "nuid": "f03654a6-44e4-4780-b290-413f6af07683",
     "showTitle": false,
     "title": ""
    }
   },
   "source": [
    "## Importing Libraries"
   ]
  },
  {
   "cell_type": "code",
   "execution_count": 0,
   "metadata": {
    "application/vnd.databricks.v1+cell": {
     "cellMetadata": {
      "byteLimit": 2048000,
      "rowLimit": 10000
     },
     "inputWidgets": {},
     "nuid": "eb938c6d-c1bc-47e5-9a10-bbdd4dd006e9",
     "showTitle": false,
     "title": ""
    }
   },
   "outputs": [],
   "source": [
    "from pyspark.sql import SparkSession\n",
    "from pyspark.sql.functions import percent_rank\n",
    "from pyspark.sql import Window\n",
    "from io import BytesIO\n",
    "from copy import deepcopy\n",
    "from datetime import datetime\n",
    "from dateutil import parser\n",
    "import logging\n",
    "from pyspark.sql.types import *"
   ]
  },
  {
   "cell_type": "markdown",
   "metadata": {
    "application/vnd.databricks.v1+cell": {
     "cellMetadata": {},
     "inputWidgets": {},
     "nuid": "c67a2b2d-b212-4eb9-990e-3124151816cb",
     "showTitle": false,
     "title": ""
    }
   },
   "source": [
    "## Defining the schema for the data"
   ]
  },
  {
   "cell_type": "code",
   "execution_count": 0,
   "metadata": {
    "application/vnd.databricks.v1+cell": {
     "cellMetadata": {
      "byteLimit": 2048000,
      "rowLimit": 10000
     },
     "inputWidgets": {},
     "nuid": "048e3537-c5e9-47bc-815a-4ccd9cb6d7fb",
     "showTitle": false,
     "title": ""
    }
   },
   "outputs": [],
   "source": [
    "Dataschema = StructType([\n",
    "    StructField(\"ID\", StringType()),\n",
    "    StructField(\"WeekStarting\", DateType()),\n",
    "    StructField(\"Store\", IntegerType()),\n",
    "    StructField(\"Brand\", StringType()),\n",
    "    StructField(\"Quantity\", IntegerType()),\n",
    "    StructField(\"Advert\", IntegerType()),\n",
    "    StructField(\"Price\", FloatType()),\n",
    "    StructField(\"Revenue\", FloatType())\n",
    "])\n"
   ]
  },
  {
   "cell_type": "markdown",
   "metadata": {
    "application/vnd.databricks.v1+cell": {
     "cellMetadata": {},
     "inputWidgets": {},
     "nuid": "caa9f2b9-8824-447e-a8be-38d3909dda1f",
     "showTitle": false,
     "title": ""
    }
   },
   "source": [
    "## Load the data from the source and perform the transformations"
   ]
  },
  {
   "cell_type": "code",
   "execution_count": 0,
   "metadata": {
    "application/vnd.databricks.v1+cell": {
     "cellMetadata": {
      "byteLimit": 2048000,
      "rowLimit": 10000
     },
     "inputWidgets": {},
     "nuid": "125ea9d8-32ef-4973-a35f-755b2c1e7d64",
     "showTitle": false,
     "title": ""
    }
   },
   "outputs": [],
   "source": [
    "@dlt.table(comment=\"Raw data\", path = \"/mnt/dlt_destination/bronze_SalesTrans\")    \n",
    "def bronze_SalesTrans():\n",
    "  return (spark.read.csv('/mnt/Source/StoreTransactionsData/SalesTransData.txt',schema=Dataschema))"
   ]
  },
  {
   "cell_type": "code",
   "execution_count": 0,
   "metadata": {
    "application/vnd.databricks.v1+cell": {
     "cellMetadata": {
      "byteLimit": 2048000,
      "rowLimit": 10000
     },
     "inputWidgets": {},
     "nuid": "f42401ae-414c-47db-bfd3-84006e0ee4bb",
     "showTitle": false,
     "title": ""
    }
   },
   "outputs": [],
   "source": [
    "@dlt.table(comment=\"Silver data\", path = \"/mnt/dlt_destination/silver_SalesTrans_data\")\n",
    "def silver_SalesTrans_data():\n",
    "    pydf = dlt.read(\"bronze_SalesTrans\").withColumn(\"rank\", percent_rank().over(Window.partitionBy().orderBy(\"WeekStarting\")))\n",
    "    return pydf"
   ]
  },
  {
   "cell_type": "code",
   "execution_count": 0,
   "metadata": {
    "application/vnd.databricks.v1+cell": {
     "cellMetadata": {
      "byteLimit": 2048000,
      "rowLimit": 10000
     },
     "inputWidgets": {},
     "nuid": "db93c661-c4cc-4823-9fcb-3bfc61f9d8c4",
     "showTitle": false,
     "title": ""
    }
   },
   "outputs": [],
   "source": [
    "@dlt.table(comment=\"Silver data\", path = \"/mnt/dlt_destination/gold_SalesTrans_toprank\")\n",
    "def gold_SalesTrans_toprank():\n",
    "    train = dlt.read(\"silver_SalesTrans_data\").where(\"rank <= .8\").drop(\"rank\")\n",
    "    return train\n",
    "    \n",
    "@dlt.table(comment=\"Silver data\", path = \"/mnt/dlt_destination/gold_SalesTrans_lowerrank\")\n",
    "def gold_SalesTrans_lowerrank():\n",
    "    test = dlt.read(\"silver_SalesTrans_data\").where(\"rank > .8\").drop(\"rank\")\n",
    "    return test"
   ]
  },
  {
   "cell_type": "markdown",
   "metadata": {
    "application/vnd.databricks.v1+cell": {
     "cellMetadata": {},
     "inputWidgets": {},
     "nuid": "75efdca5-0fb4-4a01-b6bf-1fa97a658f63",
     "showTitle": false,
     "title": ""
    }
   },
   "source": [
    "#  Customer Churn Data Preparation using Spark"
   ]
  },
  {
   "cell_type": "markdown",
   "metadata": {
    "application/vnd.databricks.v1+cell": {
     "cellMetadata": {},
     "inputWidgets": {},
     "nuid": "5d087cd3-4a9e-4ce6-9ea1-cc0ca9ee187b",
     "showTitle": false,
     "title": ""
    }
   },
   "source": [
    "## Load the data from the source and perform the transformations"
   ]
  },
  {
   "cell_type": "code",
   "execution_count": 0,
   "metadata": {
    "application/vnd.databricks.v1+cell": {
     "cellMetadata": {
      "byteLimit": 2048000,
      "rowLimit": 10000
     },
     "inputWidgets": {},
     "nuid": "021b72d8-fe65-4ada-b13b-7f138976ce67",
     "showTitle": false,
     "title": ""
    }
   },
   "outputs": [],
   "source": [
    "@dlt.table(comment=\"Raw data\", path = \"/mnt/dlt_destination/bronze_CustomerChurnTrans\") \n",
    "def bronze_CustomerChurnTrans():\n",
    "  return (spark.read.csv('/mnt/Source/CustomerChurnData/CustomerChurnData.csv',  header=True))"
   ]
  },
  {
   "cell_type": "code",
   "execution_count": 0,
   "metadata": {
    "application/vnd.databricks.v1+cell": {
     "cellMetadata": {
      "byteLimit": 2048000,
      "rowLimit": 10000
     },
     "inputWidgets": {},
     "nuid": "a8ba4604-ccd1-47ac-9fc9-774c4399d197",
     "showTitle": false,
     "title": ""
    }
   },
   "outputs": [],
   "source": [
    "@dlt.table(comment=\"Silver data\",  path = \"/mnt/dlt_destination/silver_CustomerChurn_data\")\n",
    "def silver_CustomerChurn_data():\n",
    "    pydf = dlt.read(\"bronze_CustomerChurnTrans\")\n",
    "    return pydf"
   ]
  },
  {
   "cell_type": "markdown",
   "metadata": {
    "application/vnd.databricks.v1+cell": {
     "cellMetadata": {},
     "inputWidgets": {},
     "nuid": "0a67c38e-0cb8-4997-a0e0-56b89ba8def5",
     "showTitle": false,
     "title": ""
    }
   },
   "source": [
    "The result after running DLT pipeline would look similar to the following screenshot.\n",
    "\n",
    "![](https://stmsftbuild2024.blob.core.windows.net/dltimage/task-2.2.7.png)"
   ]
  }
 ],
 "metadata": {
  "application/vnd.databricks.v1+notebook": {
   "dashboards": [],
   "environmentMetadata": null,
   "language": "python",
   "notebookMetadata": {
    "mostRecentlyExecutedCommandWithImplicitDF": {
     "commandId": 1848351626391233,
     "dataframes": [
      "_sqldf"
     ]
    },
    "pythonIndentUnit": 4
   },
   "notebookName": "01 DLT Notebook",
   "widgets": {}
  },
  "language_info": {
   "name": "python"
  }
 },
 "nbformat": 4,
 "nbformat_minor": 0
}
